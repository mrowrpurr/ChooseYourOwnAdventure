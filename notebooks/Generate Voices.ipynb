{
 "cells": [
  {
   "cell_type": "markdown",
   "metadata": {},
   "source": [
    "# Generate Voice Sound Files"
   ]
  },
  {
   "cell_type": "code",
   "execution_count": null,
   "metadata": {},
   "outputs": [],
   "source": [
    "import httpx\n",
    "from typing import Any\n",
    "\n",
    "async def post_wav_file(output_filename: str, url: str, payload: dict[str, Any]) -> None:\n",
    "    \"\"\"\n",
    "    Asynchronously POST a JSON payload to the given URL and save\n",
    "    the WAV audio response to disk using httpx.\n",
    "    \"\"\"\n",
    "    async with httpx.AsyncClient(follow_redirects=True) as client:\n",
    "        response = await client.post(url, json=payload)\n",
    "        print(response)\n",
    "        with open(output_filename, \"wb\") as audio_file:\n",
    "            audio_file.write(response.content)\n",
    "            print(f\"Saved audio to {output_filename}\")"
   ]
  },
  {
   "cell_type": "code",
   "execution_count": null,
   "metadata": {},
   "outputs": [
    {
     "name": "stdout",
     "output_type": "stream",
     "text": [
      "<Response [200 OK]>\n"
     ]
    }
   ],
   "source": [
    "url = \"http://localhost:8020/tts_to_audio\"\n",
    "payload = {\n",
    "  \"text\": \"Life in Whiterun is good, thank you for asking. The Jarl's been doing a fine job of keeping the city prosperous.\",\n",
    "  \"language\": \"en\",\n",
    "  \"speaker_wav\": \"malenord\"\n",
    "}\n",
    "output_filename = \"D:/temp/locally_saved1.wav\"\n",
    "\n",
    "await post_wav_file(output_filename, url, payload)\n",
    "\n",
    "url2 = \"http://localhost:8020/tts_to_audio\"\n",
    "payload2 = {\n",
    "  \"text\": \"Of course, there's always something going on, whether it's the Companions looking for new members or the Thieves Guild trying to... well, steal things. But overall, it's a good place to live.\",\n",
    "  \"language\": \"en\",\n",
    "  \"speaker_wav\": \"malenord\"\n",
    "}\n",
    "output_filename2 = \"D:/temp/locally_saved2.wav\"\n",
    "\n",
    "await post_wav_file(output_filename2, url2, payload2)"
   ]
  }
 ],
 "metadata": {
  "kernelspec": {
   "display_name": ".venv",
   "language": "python",
   "name": "python3"
  },
  "language_info": {
   "codemirror_mode": {
    "name": "ipython",
    "version": 3
   },
   "file_extension": ".py",
   "mimetype": "text/x-python",
   "name": "python",
   "nbconvert_exporter": "python",
   "pygments_lexer": "ipython3",
   "version": "3.13.1"
  }
 },
 "nbformat": 4,
 "nbformat_minor": 2
}
